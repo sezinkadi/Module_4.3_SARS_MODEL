{
 "cells": [
  {
   "cell_type": "markdown",
   "metadata": {
    "collapsed": true
   },
   "source": [
    "# SARS MODEL"
   ]
  },
  {
   "cell_type": "markdown",
   "metadata": {},
   "source": [
    "SARS (Severe Acute Respiratory Syndrome) Model is used to make predictions on the \n",
    "impact of public health efforts to reduce disease transmission.\n",
    "\n",
    "Such efforts included quarantine of exposed individuals to separate them from the \n",
    "susceptible population, perhaps by confinement to their homes, and \n",
    "isolation of those who had SARS to remove them to strictly supervised hospital areas \n",
    "with no contacts other than by healthcare personnel."
   ]
  },
  {
   "cell_type": "markdown",
   "metadata": {},
   "source": [
    "## Simplifying Assumptions for the SARS MODEL"
   ]
  },
  {
   "cell_type": "markdown",
   "metadata": {},
   "source": [
    "1. There are no births. \n",
    "\n",
    "2. The only deaths are because of SARS. \n",
    "\n",
    "3. The number of contacts of an infected individual with a susceptible person is \n",
    "   constant and does not depend on the population density. \n",
    "\n",
    "4. For susceptible individuals with exposure to the disease, the quarantine \n",
    "   proportion (q) is the same for non-infected as for infected people. \n",
    "\n",
    "5. Quarantine and isolation are completely effective. Someone in quarantine or \n",
    "   isolation cannot spread disease or, in the case of a susceptible, cannot catch \n",
    "   the disease."
   ]
  },
  {
   "cell_type": "markdown",
   "metadata": {},
   "source": [
    "## Populations Considered in the SARS MODEL"
   ]
  },
  {
   "cell_type": "markdown",
   "metadata": {},
   "source": [
    "As compared to SIR MODEL we have two additional popullations in SARS MODEL, exposed andquarantine. Definition of the populations are as follows:\n",
    "\n",
    "Susceptible (S) do not have but can catch SARS from infectious individuals. \n",
    "\n",
    "Susceptible_quarantined (SQ) do not have SARS, quarantined because of exposure, so \n",
    "cannot catch SARS. \n",
    "\n",
    "Exposed (E) have SARS, no symptoms, not yet infectious. \n",
    "\n",
    "Exposed_quarantined (EQ) have SARS, no symptoms, not yet infectious, quarantined \n",
    "because of exposure. \n",
    "\n",
    "Infectious_undetected (IU) have undetected SARS, infectious. \n",
    "\n",
    "Infectious_quarantined (IQ) have SARS, infectious, quarantined, cannot transmit. \n",
    "\n",
    "Infectious_isolated (ID) have SARS, infectious, isolated, cannot transmit. \n",
    "\n",
    "SARS_death (D) are dead due to SARS. \n",
    "\n",
    "Recovered_immune have recovered from SARS, immune to further infection.\n",
    "\n",
    "\n",
    "Because we are assuming that quarantine is completely effective, only someone in \n",
    "the susceptible (S) category can catch SARS, and transmission to a susceptible \n",
    "can occur only through exposure to an individual in the infectious_undetected (IU) \n",
    "category. \n",
    "\n",
    "Those with SARS in other categories are under quarantine or isolation or are not yet \n",
    "infectious."
   ]
  },
  {
   "cell_type": "markdown",
   "metadata": {},
   "source": [
    "A susceptible individual who has had contact with someone having SARS and has moved \n",
    "from the susceptible group can be quarantined with or without the disease \n",
    "(to exposed_quarantined or susceptible_quarantined, respectively) or can be infected \n",
    "and not quarantined (to exposed). \n",
    "\n",
    "A susceptible, quarantined person who does not have SARS (in susceptible_quarantined) \n",
    "eventually is released from quarantine (to susceptible). \n",
    "\n",
    "An exposed but not yet infectious individual who does have SARS, whether quarantined \n",
    "or not (in exposed_quarantined or exposed, respectively), eventually becomes infectious(to infectious_quarantined or infectious_undetected, respectively). \n",
    "\n",
    "Regardless of quarantine status, an infectious individual can recover \n",
    "(to recovered_immune), go into isolation after discovery (to infectious_isolated), or \n",
    "die (to SARS_death). Isolated patients who are sick with SARS can recover or die.\n"
   ]
  },
  {
   "cell_type": "markdown",
   "metadata": {},
   "source": [
    "A susceptible person can not die because of SARS.\n",
    "\n",
    "A person who has undetected SARS in the early stages can not recover\n",
    "without ever becoming infectious. \n",
    "\n",
    "Someone in quarantine diagnosed with SARS can recover without going into isolation. \n",
    "\n",
    "Someone who has recovered from SARS can not become infected with the disease again.\n",
    "\n",
    "Nobody can be transferred from isolation to quarantine."
   ]
  },
  {
   "cell_type": "markdown",
   "metadata": {},
   "source": [
    "## Other parameters of SARS MODEL"
   ]
  },
  {
   "cell_type": "markdown",
   "metadata": {},
   "source": [
    "The model employs the following parameters:\n",
    "( b ):probability that a contact between person in infectious_undetected (IU) and \n",
    "someone in susceptible (S) results in transmission of SARS\n",
    "\n",
    "( k ):mean number of contacts per day someone from infectious_undetected (IU) has. \n",
    "By assumption, the value does not depend on population density. \n",
    "\n",
    "( m ):per capita death rate \n",
    " \n",
    " N0  :initial number of people in the population \n",
    "\n",
    "( p ):fraction per day of exposed people who become infectious; this fraction\n",
    "applies to the transitions from exposed (E) to infectious_undetected (IU) and from exposed_quarantined (EQ) to infectious_quarantined (IQ). Thus, 1/p is the number of days inthe early stages of SARS for a person to be infected but not infectious. \n",
    "\n",
    "( q ):fraction per day of individuals in susceptible (S) who have had exposure to SARS\n",
    "that go into quarantine, either to category susceptible_quarantined (SQ) or to\n",
    "exposed_quarantined (EQ) \n",
    "\n",
    "( u ):fraction per day of those in susceptible_quarantined (SQ) who are allowed to \n",
    "leave quarantine, returning to the susceptible (S) category; thus, 1/u is the \n",
    "number of days for a susceptible person to be in quarantine. \n",
    "\n",
    "( v ):per capita recovery rate; this rate is the same for the transition from \n",
    "category infectious_undetected (IU), infectious_isolated (ID), or infectious_ quarantined (IQ) to category recovered_immune.\n",
    "\n",
    "( w ):fraction per day of those in infectious_undetected (IU) who are detected and \n",
    "isolated and thus transferred to category infectious_isolated (ID)"
   ]
  },
  {
   "cell_type": "markdown",
   "metadata": {},
   "source": [
    "### Preliminary Calculations "
   ]
  },
  {
   "cell_type": "markdown",
   "metadata": {},
   "source": [
    "a. Suppose it takes an average of 5 days for someone who has SARS but is not infectious   to progress to the infectious stage. Give the value of p along with its units.\n",
    "\n",
    "\tp=1/5=0.2/day\n",
    "\n",
    "b. Give the formula for the rate of change of exposed individuals who are not \n",
    "   quarantined to move into the phase of being infectious and undetected, from E to IU.\n",
    "\n",
    "\td(IU)/dt=pE\n",
    "\n",
    "c. Give the formula for the rate of change of exposed individuals who are quarantined \n",
    "   to move into the phase of being infectious and quarantined, from EQ to IQ. d($I_{Q}$)/dt=p$E_{Q}$\n",
    "\n",
    "d. Suppose 10% of the people who have been in quarantine but who do not have SARS are \n",
    "   allowed to leave quarantine each day. Give u and the average number of days for a \n",
    "   susceptible person to be in quarantine. \n",
    "\tu=0.1/day\n",
    "\taverage number of days=1/u=10 days\n",
    "\n",
    "\n",
    "e. Give the formula for the rate of change of susceptible, quarantined individuals \n",
    "   leaving quarantine, from SQ to S.\n",
    "\n",
    "      dS/dt=uSQ"
   ]
  },
  {
   "cell_type": "markdown",
   "metadata": {},
   "source": [
    "Three paths exist for someone to leave infectious_ undetected (IU)\n",
    "\n",
    "1. to recovered_immune at a rate of v, \n",
    "\n",
    "2. to SARS_death at a rate of m,  \n",
    "\n",
    "3. to infectious_isolated (ID) at a rate of w. \n",
    "\n",
    "Thus, the total rate of change to leave infectious_undetected (IU) is (v + m + w)/day. For example, if v = 0.04, m = 0.0975, and w = 0.0625, v + m + w = 0.2/day. \n",
    "In this case, 1/(v + m + w) = 5 day is the average duration of infectiousness."
   ]
  },
  {
   "cell_type": "markdown",
   "metadata": {},
   "source": [
    "By assumption, k is the number of contacts an undetected infectious person has, \n",
    "regardless of population density. \n",
    "\n",
    "Thus, with N0 being the initial population size, k/N0 is the fraction per day of such \n",
    "contacts. Because b is the probability of transmitting the disease, the product (k/N0)b is the transmission constant. \n",
    "\n",
    "As in the SIR model, the product (IU)S gives the total number of possible interactions.Thus, \n",
    "\n",
    "\t k/N0(b)(IU)S = kb(IU)S/N0 \n",
    "\n",
    "is the number of new cases of SARS each day. \n",
    "\n",
    "Of these new cases, a fraction (q) go into category exposed_quarantined (EQ), \n",
    "while the remainder, the fraction (1 – q), go into exposed (E)."
   ]
  },
  {
   "cell_type": "markdown",
   "metadata": {},
   "source": [
    "Formula for the rate of change from susceptible (S) to exposed_ quarantined (EQ)can be written as:\n",
    "\n",
    "\td(EQ)/dt=qkbIUS/N0\n",
    "\n",
    "\n",
    "Formula for the rate of change from susceptible (S) to exposed (E) can be written as:\n",
    "\n",
    "\tdE/dt=(1 – q)kbIUS / N0\n"
   ]
  },
  {
   "cell_type": "markdown",
   "metadata": {},
   "source": [
    "For those transferring from susceptible (S) to susceptible_quarantined (SQ), although \n",
    "they have been exposed to an infectious person, the disease was not transmitted to \n",
    "them. \n",
    "\n",
    "The fraction of total possible contacts, IUS, is (k/N0), and the probability of \n",
    "nontransmittal is (1 – b). Thus, the total number of nontransmission contacts is \n",
    "\t(k/N0)(1 – b)IUS \n",
    "\n",
    "However, only a fraction (q) of those go into quarantine. Thus, the rate of change of \n",
    "those going from susceptible (S) to susceptible_quarantined (SQ) can be written as:\n",
    "\n",
    "\td(SQ)/dt= qk(1 – b)IUS / N0"
   ]
  },
  {
   "cell_type": "markdown",
   "metadata": {},
   "source": [
    "## Reproductive Number"
   ]
  },
  {
   "cell_type": "markdown",
   "metadata": {},
   "source": [
    "In SARS model, an important value in evaluating the effectiveness of quarantine and \n",
    "isolation is the reproductive number R, which is the expected number of secondary \n",
    "infectious cases resulting from an average infectious case once the epidemic is in\n",
    "progress. \n",
    "\n",
    "The basic reproductive number, $R_{0}$ , is the initial reproductive number with one \n",
    " infectious individual and all others being susceptible. For example, if at the start \n",
    "of a disease in an area the infectious individual transmits SARS to a mean of three \n",
    "other people who eventually become infectious, then the basic reproductive number is \n",
    "$R_{0}$ = 3. \n",
    "\n",
    "Such a number results in the alarming prospect of exponential growth of the disease. On the average, one person transmits infectiousness to three other people, who each cause three other people to become infectious, and so forth. In such a situation, at stage \n",
    " n of transmission, $3^{n}$ new people would eventually become infectious. \n",
    "\n",
    "For example, at stage n = 13, $3^{13}$ , or more than 1.5 million, new people, would \n",
    "get sick. Because of such exponential growth, it very important that R be less than 1. \n",
    "With R < 1, there is no epidemic. For R > 1, there is an epidemic. The larger the \n",
    "reproductive number, the more virulent the epidemic. For this SARS model, on the \n",
    "average, an undetected infectious person has k contacts per day. At the beginning of \n",
    "the disease with all individuals except one being susceptible, each such contact can \n",
    "result in the disease spreading. \n",
    "\n",
    "Thus, with a probability b of transmission, approximately kb secondary cases of SARS \n",
    "per day derive from the first infections individual. Thus, for mean disease duration of D days, the basic reproductive number, susceptible, each such contact can result in \n",
    "the disease spreading. Thus, with a probability b of transmission, approximately kb \\secondary cases of SARS per day derive from the first infections individual. Thus, for \n",
    "mean disease duration of D days, the basic reproductive number, $R_{0}$, is kbD. \n",
    "\n",
    "Because the average duration of infectiousness is 1/(v + m + w) days , without \n",
    "quarantine being a factor, one infectious person eventually gives rise to $R_{0}$ = kb/(v + m + w) \n",
    "\n",
    "secondary infectious cases of SARS. \n",
    "\n",
    "However, when a fraction, q, go into quarantine so that a fraction (1 - q) do not, the reproductive number is $R_{0}$ =kb(1−q) \n",
    "\n",
    "The larger q is, the smaller $R_{0}$ is, and the less severe the impact of the disease is."
   ]
  },
  {
   "cell_type": "markdown",
   "metadata": {},
   "source": [
    "## Example Project : SARS MODEL"
   ]
  },
  {
   "cell_type": "markdown",
   "metadata": {},
   "source": [
    "Complete the SARS model introduced in the text. Have the model evaluate R. \n",
    "Produce graphs and a table of appropriate populations, including susceptible, \n",
    "recovered_immune, SARS_death, and the total of the five categories of infecteds. \n",
    "\n",
    "Employ the following parameters: \n",
    "k = 10/day; \n",
    "b = 0.06; \n",
    "1/p=5 days; \n",
    "v=0.04, \n",
    "m=0.0975, and \n",
    "w=0.0625, so that v+m+w= 0.2/day and 1/(v + m + w) = 5 days; \n",
    "1/u = 10 days; \n",
    "$N_{0}$ = 10,000,000 people. \n",
    "\n",
    "Vary q from 0 upward. Note that in each case, the graph of the number of susceptibles \n",
    "appears logistic and the solution eventually reaches equilibrium.\n",
    "Describe the shapes of the graphs and discuss the results."
   ]
  },
  {
   "cell_type": "code",
   "execution_count": null,
   "metadata": {},
   "outputs": [],
   "source": []
  }
 ],
 "metadata": {
  "kernelspec": {
   "display_name": "Python 2",
   "language": "python",
   "name": "python2"
  },
  "language_info": {
   "codemirror_mode": {
    "name": "ipython",
    "version": 2
   },
   "file_extension": ".py",
   "mimetype": "text/x-python",
   "name": "python",
   "nbconvert_exporter": "python",
   "pygments_lexer": "ipython2",
   "version": "2.7.6"
  }
 },
 "nbformat": 4,
 "nbformat_minor": 0
}
